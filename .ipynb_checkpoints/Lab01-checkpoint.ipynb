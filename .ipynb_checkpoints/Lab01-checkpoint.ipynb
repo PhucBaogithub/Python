{
 "cells": [
  {
   "cell_type": "code",
   "execution_count": 3,
   "id": "cceeda2f-b5bb-422a-a032-96bb92d8efd9",
   "metadata": {},
   "outputs": [
    {
     "name": "stdin",
     "output_type": "stream",
     "text": [
      "Nhập số nguyên dương a:  4\n"
     ]
    },
    {
     "name": "stdout",
     "output_type": "stream",
     "text": [
      "Tổng là:  10\n",
      "Tích là:  24\n"
     ]
    }
   ],
   "source": [
    "#Viết chương trình nhập vào 1 số nguyên dương n. Tính tổng và tích các số từ 1 đến n. \n",
    "a=int(input(\"Nhập số nguyên dương a: \"))\n",
    "tong=0\n",
    "tich=1\n",
    "for x in range(1, a+1):\n",
    "    tong+=x\n",
    "print(\"Tổng là: \", tong)\n",
    "for x in range(1, a+1):\n",
    "    tich*=x\n",
    "print(\"Tích là: \", tich)"
   ]
  },
  {
   "cell_type": "code",
   "execution_count": null,
   "id": "1c992722-2443-42ed-a20c-7a9a500bbb0c",
   "metadata": {},
   "outputs": [],
   "source": [
    "#Viết chương trình tính giá trị biểu thức sau: 1 −2+3−4+5−6+⋯+999−1000 3\n",
    "tong=0\n",
    "for x in range(1, 1000+1):\n",
    "    tong+=(x-(x+1))\n",
    "tong//=2\n",
    "print(\"Giá trị biểu thức là\", tong)"
   ]
  },
  {
   "cell_type": "code",
   "execution_count": null,
   "id": "ecc41057-7957-46cb-9af8-3fee5bc36459",
   "metadata": {},
   "outputs": [],
   "source": [
    "#Viết chương trình nhập vào 1 năm bất kỳ (từ 1900 đến 3000). Kiểm tra xem năm đó có phải năm nhuần hay không?\n",
    "a=int(input(\"Nhập số Năm: \"))\n",
    "if a < 1900 or a > 3000:\n",
    "    print(\"Bạn nhập quá số năm vui lòng nhập lại!\")\n",
    "else:\n",
    "    if (a % 4 == 0) and not(a%100==0 and a%400==0):\n",
    "        print(\"Là năm nhuận\")\n",
    "    else:\n",
    "        print(\"Không là năm nhuận\")"
   ]
  },
  {
   "cell_type": "code",
   "execution_count": null,
   "id": "f95685fe-fcf4-4707-931c-a562c9340f02",
   "metadata": {},
   "outputs": [],
   "source": [
    "#Viết chương trình chuyển đổi giữa độ C và độ F.\n",
    "b=int(input(\"Nhập số nhiệt độ bạn muốn đổi: \"))\n",
    "a=int(input(\"Chọn đổi: 1 = C->F : 2 = F->C \"))\n",
    "if a == 1:\n",
    "    F=0\n",
    "    F=b*9/5+32\n",
    "    print(\"Từ C sang F là: \", F)\n",
    "else:\n",
    "    C=0\n",
    "    C=(b-32)/1.8\n",
    "    print(\"Từ F sang C: \", C)a=int(input(\"Nhập số nguyên dương a: \"))"
   ]
  },
  {
   "cell_type": "code",
   "execution_count": null,
   "id": "00271df2-85b3-4a30-9c92-22732827321f",
   "metadata": {},
   "outputs": [],
   "source": [
    "#Viết chương trình đếm số chữ số của số nguyên dương n. \n",
    "a=int(input(\"Nhập số nguyên dương a: \"))\n",
    "count=1\n",
    "if a % 2 == 0 :\n",
    "    while a >= 10:\n",
    "        a/=10\n",
    "        count+=1\n",
    "    print(\"Số chữ số của số nguyên dương là: \", count)\n",
    "else:\n",
    "    print(\"Đây không phải số nguyên dương!\")"
   ]
  },
  {
   "cell_type": "code",
   "execution_count": null,
   "id": "08f8832b-f86b-4b78-9ace-06dbb5422ade",
   "metadata": {},
   "outputs": [],
   "source": [
    "#Viết chương trình tính số đảo ngược của số nguyên dương n\n",
    "n = int(input(\"Nhập vào số N cần đảo ngược: \"))\n",
    "while (n != 0):\n",
    "    print(n % 10, end=\"\")\n",
    "    n = n // 10"
   ]
  },
  {
   "cell_type": "code",
   "execution_count": null,
   "id": "beaee8e1-e76a-4ec2-92f2-06d295454de6",
   "metadata": {},
   "outputs": [],
   "source": [
    "#Viết chương trình chuyển số nguyên dương n ở hệ thập phân sang hệ nhị phân và ngược lại\n",
    "a=int(input(\"Vui lòng chọn loại chuyển đổi: 1: binary -> decimal, 2: decimal -> binary\"))\n",
    "b=int(input(\"Vui lòng nhập số cần chuyển đổi: \"))\n",
    "if a == 1:\n",
    "    decimal = int(str(b), 2)\n",
    "    print(\"Số decimal: \", decimal)\n",
    "elif a == 2:\n",
    "    binary = bin(b)[2:]\n",
    "    print(\"Số binary: \", binary)\n",
    "else: \n",
    "    print(\"Bạn nhập sai vui lòng nhập lại!\")"
   ]
  },
  {
   "cell_type": "code",
   "execution_count": null,
   "id": "6a07dd06-d57e-44a4-bd97-ce994fc61b21",
   "metadata": {},
   "outputs": [],
   "source": [
    "#Phương trình bậc 2 một ẩn có dạng 𝑎𝑥 + 𝑏𝑥 + 𝑐 = 0 với 𝑎 ≠ 0. Viết chương trình yêu cầu người dùng nhập hệ số 𝑎,𝑏,𝑐. Tính toán và xuất ra màn hình nghiệm của bài toán\n",
    "import math\n",
    "a=float(input(\"Vui lòng nhập số A: \"))\n",
    "b=float(input(\"Vui lòng nhập số B: \"))\n",
    "c=float(input(\"Vui lòng nhập số C: \"))\n",
    "delta=b**2 - (4*a*c)\n",
    "if delta < 0:\n",
    "    print(\"Phương trình vô nghiệm!\")\n",
    "elif delta > 0:\n",
    "    print(\"Phương trình có 2 nghiệm phân biệt: \")\n",
    "    x1 = (-b + math.sqrt(delta))/(2*a)\n",
    "    x2 = (-b - math.sqrt(delta))/(2*a)\n",
    "    print(\"x1 =\",x1 , \"x2 =\",x2)\n",
    "elif delta == 0:\n",
    "    z1 = -b/2*a\n",
    "    print(\" Phương trình có nghiệm kép x1 = x2 = \", z1)"
   ]
  },
  {
   "cell_type": "code",
   "execution_count": null,
   "id": "885c399c-80d2-4db3-bcee-04021ec755ba",
   "metadata": {},
   "outputs": [],
   "source": [
    "#Viết chương trình cho người dùng nhập vào 1 số nguyên dương n. Xuất các thừa số nguyên tố của n\n",
    "def phanTichSoNguyen(n):\n",
    "    i = 2;\n",
    "    listNumbers = [];\n",
    "    # phân tích\n",
    "    while (n > 1):\n",
    "        if (n % i == 0):\n",
    "            n = int(n / i);\n",
    "            listNumbers.append(i);\n",
    "        else:\n",
    "            i = i + 1;\n",
    "    if (len(listNumbers) == 0):\n",
    "        listNumbers.append(n);\n",
    "    return listNumbers;\n",
    " \n",
    "n = int(input(\"Nhập số nguyên dương n = \"));\n",
    "listNumbers = phanTichSoNguyen(n);\n",
    "size = len(listNumbers);\n",
    "sb = \"\";\n",
    "for i in range(0, size - 1):\n",
    "    sb = sb + str(listNumbers[i]) + \" x \";\n",
    "sb = sb + str(listNumbers[size-1]);\n",
    "print(\"Kết quả:\", n, \"=\", sb);"
   ]
  },
  {
   "cell_type": "code",
   "execution_count": null,
   "id": "50817ec1-7540-4232-85ff-c864fc50c5ea",
   "metadata": {},
   "outputs": [],
   "source": [
    "#Viết chương trình xuất ra ngày liền trước và ngày liền sau của 1 giá trị ngày tháng năm nhận vào. \n",
    "numbers = input(\"Nhập danh sách các số nguyên, cách nhau bằng dấu cách: \").split()\n",
    "numbers = [int(num) for num in numbers]\n",
    "total = sum(numbers)\n",
    "print(\"Tổng của các số vừa nhập là:\", total)\n",
    "even_count = sum(1 for num in numbers if num % 2 == 0)\n",
    "two_digit_count = sum(1 for num in numbers if 10 <= abs(num) < 100)\n",
    "print(\"Số lượng số chẵn trong danh sách là:\", even_count)\n",
    "print(\"Số lượng số có 2 chữ số trong danh sách là:\", two_digit_count)"
   ]
  },
  {
   "cell_type": "code",
   "execution_count": null,
   "id": "f1100cba-7ebe-41ff-b71a-bd8b2e759082",
   "metadata": {},
   "outputs": [],
   "source": [
    "#Viết chương trình cho người dùng nhập 1 danh sách các số nguyên. Sau đó tính tổng \n",
    "các số vừa nhập. Tính xem có bao nhiêu số chẳn và bao nhiêu số có 2 chữ số\n",
    "numbers = input(\"Nhập danh sách các số nguyên, cách nhau bằng dấu cách: \").split()\n",
    "numbers = [int(num) for num in numbers]\n",
    "total = sum(numbers)\n",
    "print(\"Tổng của các số vừa nhập là:\", total)\n",
    "even_count = sum(1 for num in numbers if num % 2 == 0)\n",
    "two_digit_count = sum(1 for num in numbers if 10 <= abs(num) < 100)\n",
    "print(\"Số lượng số chẵn trong danh sách là:\", even_count)\n",
    "print(\"Số lượng số có 2 chữ số trong danh sách là:\", two_digit_count)"
   ]
  },
  {
   "cell_type": "code",
   "execution_count": null,
   "id": "e5ee2736-aea5-4494-81c1-5f77cb2d11a0",
   "metadata": {},
   "outputs": [],
   "source": [
    "#Viết chương trình sắp xếp các phần tử trong danh sách các số nguyên tăng dần bằng \n",
    "Interchange sort, Bubble sort và Binary sort\n",
    "Interchange sort, Bubble sort và Binary sort\n",
    "a=int(input(\"Vui lòng chọn thuật toán: 1: Interchange sort || 2: Bubble sort || 3: Binary sort\"))\n",
    "if a == 1:\n",
    "    arr = [64, 34, 25, 12, 22, 11, 90]\n",
    "    n = len(arr)\n",
    "    for i in range(n - 1):\n",
    "        for j in range(i + 1, n):\n",
    "            if arr[i] > arr[j]:\n",
    "                arr[i], arr[j] = arr[j], arr[i]\n",
    "    print(\"Danh sách sau khi sắp xếp bằng Interchange sort:\")\n",
    "    print(arr)\n",
    "elif a == 2:\n",
    "    arr = [64, 34, 25, 12, 22, 11, 90]\n",
    "    n = len(arr)\n",
    "    for i in range(n - 1):\n",
    "        for j in range(n - i - 1):\n",
    "            if arr[j] > arr[j + 1]:\n",
    "                arr[j], arr[j + 1] = arr[j + 1], arr[j]\n",
    "    print(\"Danh sách sau khi sắp xếp bằng Bubble sort:\")\n",
    "    print(arr)\n",
    "elif a == 3:\n",
    "    arr = [64, 34, 25, 12, 22, 11, 90]\n",
    "    for i in range(1, len(arr)):\n",
    "        key = arr[i]\n",
    "        left, right = 0, i - 1\n",
    "        while left <= right:\n",
    "            mid = (left + right) // 2\n",
    "            if arr[mid] > key:\n",
    "                right = mid - 1\n",
    "            else:\n",
    "                left = mid + 1\n",
    "        arr[:] = arr[:left] + [key] + arr[left:i] + arr[i + 1:]\n",
    "    print(\"Danh sách sau khi sắp xếp bằng Binary sort:\")\n",
    "    print(arr)\n",
    "else:\n",
    "    print(\"Bạn nhập sai mời nhập lại!\")"
   ]
  },
  {
   "cell_type": "code",
   "execution_count": null,
   "id": "0b786ce4-4deb-44a2-a14b-c3d54b81e345",
   "metadata": {},
   "outputs": [],
   "source": [
    "#Viết chương trình tìm kiếm 1 số trong danh sách các số nguyên bằng tìm kiếm tuần tự và tìm kiếm nhị phân\n",
    "a=int(input(\"Vui lòng chọn thuật toán: 1: Tìm kiếm tuần tự || 2: Tìm kiếm nhị phân\"))\n",
    "def linear_search(arr, target):\n",
    "    for i in range(len(arr)):\n",
    "        if arr[i] == target:\n",
    "            return i\n",
    "    return -1\n",
    "def binary_search(arr, target):\n",
    "    left, right = 0, len(arr) - 1\n",
    "    while left <= right:\n",
    "        mid = (left + right) // 2\n",
    "        if arr[mid] == target:\n",
    "            return mid + 2\n",
    "        elif arr[mid] < target:\n",
    "            left = mid + 1\n",
    "        else:\n",
    "            right = mid - 1\n",
    "    return -1\n",
    "if a == 1:\n",
    "    arr = list(map(int, input(\"Nhập dãy số nguyên, cách nhau bằng dấu cách: \").split()))\n",
    "    target = int(input(\"Nhập số cần tìm kiếm: \"))\n",
    "    result = linear_search(arr, target)\n",
    "    if result != -1:\n",
    "        print(\"Số\", target, \"được tìm thấy tại chỉ số\", result)\n",
    "    else:\n",
    "        print(\"Số\", target, \"không có trong danh sách.\")\n",
    "elif a == 2:\n",
    "    arr = sorted(list(map(int, input(\"Nhập dãy số nguyên, cách nhau bằng dấu cách: \").split())))\n",
    "    target = int(input(\"Nhập số cần tìm kiếm: \"))\n",
    "    result = binary_search(arr, target)\n",
    "    if result != -1:\n",
    "        print(\"Số\", target, \"được tìm thấy tại chỉ số\", result)\n",
    "    else:\n",
    "        print(\"Số\", target, \"không có trong danh sách.\")"
   ]
  },
  {
   "cell_type": "code",
   "execution_count": null,
   "id": "f3c0a6b2-89dc-41e8-8dc5-7a53e4ad40c7",
   "metadata": {},
   "outputs": [],
   "source": [
    "#Trong phần mềm Excel, các cột sẽ được đánh chỉ số (index) bằng các ký tự latin in hoa (A à Z). Ví dụ • A: 1 • B: 2 • C: 3 • … • Z: 26 • AA: 27 • AB: 28 Viết 1 chương trình nhập số nguyên 𝑛 và đổi nó qua tên của một cột trong excel\n",
    "n = int(input(\"Nhập số nguyên n: \"))\n",
    "def index_to_excel_column(n):\n",
    "    result = \"\"\n",
    "    while n > 0:\n",
    "        remainder = (n - 1) % 26\n",
    "        result = chr(65 + remainder) + result\n",
    "        n = (n - 1) // 26\n",
    "    return result\n",
    "column_name = index_to_excel_column(n)\n",
    "print(f\"Tên cột trong Excel tương ứng với số nguyên {n} là: {column_name}\")"
   ]
  },
  {
   "cell_type": "code",
   "execution_count": null,
   "id": "b971a48d-de39-4ab1-882e-1ae62bb1824e",
   "metadata": {},
   "outputs": [],
   "source": [
    "#Cài đặt numpy, sau đó nhận vào số nguyên dương n, xuất ma trận đơn vị cấp n bằng numpy.\n",
    "import numpy as np\n",
    "\n",
    "def create_identity_matrix(n):\n",
    "    return np.eye(n)\n",
    "    \n",
    "n = int(input(\"Nhập số nguyên dương n: \"))\n",
    "if n <= 0:\n",
    "    print(\"Vui lòng nhập số nguyên dương.\")\n",
    "else:\n",
    "    identity_matrix = create_identity_matrix(n)\n",
    "    print(\"Ma trận đơn vị cấp\", n, \"là:\")\n",
    "    print(identity_matrix)"
   ]
  }
 ],
 "metadata": {
  "kernelspec": {
   "display_name": "Python 3 (ipykernel)",
   "language": "python",
   "name": "python3"
  },
  "language_info": {
   "codemirror_mode": {
    "name": "ipython",
    "version": 3
   },
   "file_extension": ".py",
   "mimetype": "text/x-python",
   "name": "python",
   "nbconvert_exporter": "python",
   "pygments_lexer": "ipython3",
   "version": "3.11.7"
  }
 },
 "nbformat": 4,
 "nbformat_minor": 5
}
