{
 "cells": [
  {
   "cell_type": "code",
   "execution_count": 8,
   "id": "7e6c5a46-60e7-4022-9850-66f833619dd1",
   "metadata": {},
   "outputs": [
    {
     "name": "stdout",
     "output_type": "stream",
     "text": [
      "Hearts of Two\n",
      "Hearts of Three\n",
      "Hearts of Four\n",
      "Hearts of Five\n",
      "Hearts of Six\n",
      "Hearts of Seven\n",
      "Hearts of Eight\n",
      "Hearts of Nine\n",
      "Hearts of Ten\n",
      "Hearts of Jack\n",
      "Hearts of Queen\n",
      "Hearts of King\n",
      "Hearts of Ace\n",
      "Diamonds of Two\n",
      "Diamonds of Three\n",
      "Diamonds of Four\n",
      "Diamonds of Five\n",
      "Diamonds of Six\n",
      "Diamonds of Seven\n",
      "Diamonds of Eight\n",
      "Diamonds of Nine\n",
      "Diamonds of Ten\n",
      "Diamonds of Jack\n",
      "Diamonds of Queen\n",
      "Diamonds of King\n",
      "Diamonds of Ace\n",
      "Clubs of Two\n",
      "Clubs of Three\n",
      "Clubs of Four\n",
      "Clubs of Five\n",
      "Clubs of Six\n",
      "Clubs of Seven\n",
      "Clubs of Eight\n",
      "Clubs of Nine\n",
      "Clubs of Ten\n",
      "Clubs of Jack\n",
      "Clubs of Queen\n",
      "Clubs of King\n",
      "Clubs of Ace\n",
      "Spades of Two\n",
      "Spades of Three\n",
      "Spades of Four\n",
      "Spades of Five\n",
      "Spades of Six\n",
      "Spades of Seven\n",
      "Spades of Eight\n",
      "Spades of Nine\n",
      "Spades of Ten\n",
      "Spades of Jack\n",
      "Spades of Queen\n",
      "Spades of King\n",
      "Spades of Ace\n"
     ]
    }
   ],
   "source": [
    "\"\"\" Cho 2 mảng giá trị như sau: \n",
    "suits = ['Hearts', 'Diamonds', 'Clubs', 'Spades'] \n",
    "values = ['Two', 'Three', 'Four', 'Five', 'Six', 'Seven', 'Eight', 'Nine', 'Ten', 'Jack', \n",
    "'Queen', 'King', 'Ace'] \n",
    "In ra tên tất cả quân bài trong bộ bài tây, ví dụ: “Two of Hearts”, “Two of \n",
    "Diamonds”, … \n",
    "\"\"\"\n",
    "suits = ['Hearts', 'Diamonds', 'Clubs', 'Spades'] \n",
    "values = ['Two', 'Three', 'Four', 'Five', 'Six', 'Seven', 'Eight', 'Nine', 'Ten', 'Jack', 'Queen', 'King', 'Ace']\n",
    "for x in suits:\n",
    "    for j in values:\n",
    "        print(x + \" \" + \"of\" + \" \" + j)"
   ]
  },
  {
   "cell_type": "code",
   "execution_count": 28,
   "id": "78b5d8a3-293a-4768-8dae-0a4764e69923",
   "metadata": {},
   "outputs": [
    {
     "name": "stdout",
     "output_type": "stream",
     "text": [
      "Tổng số phần tử trong list là:  40\n",
      "{'M': 28, 'A': 4, 'H': 6, 'S': 2}\n"
     ]
    }
   ],
   "source": [
    "\"\"\"Cho tập dữ liệu bên dưới. Thực hiện các yêu cầu sau: \n",
    "• Lưu tập dữ liệu này vào 1 biến kiểu list \n",
    "• Đếm số phần tử trong list \n",
    "• Đếm tần số xuất hiện của từng giá trị và lưu chúng trong 1 biến kiểu dictionary. \n",
    "M M M A H M S M H M \n",
    "S M M M M A M M A M \n",
    "M M H M M M H M H M \n",
    "A M M M H M M M M M \n",
    "\"\"\"\n",
    "alpha = ['M', 'M', 'M', 'A', 'H', 'M', 'S', 'M', 'H', 'M', 'S', 'M', 'M', 'M', 'M', 'A', 'M', 'M', 'A', 'M', 'M', 'M', 'H', 'M', 'M', 'M', 'H', 'M', 'H', 'M', 'A', 'M', 'M', 'M', 'H', 'M', 'M', 'M', 'M', 'M']\n",
    "count = 0\n",
    "for x in alpha:\n",
    "    count+=1\n",
    "print(\"Tổng số phần tử trong list là: \", count)\n",
    "dictionary = dict()\n",
    "for i in alpha:\n",
    "    dictionary[i]=dictionary.get(i,0)+1\n",
    "print(dictionary)"
   ]
  },
  {
   "cell_type": "code",
   "execution_count": 45,
   "id": "e3d44bc1-3a6a-4aa1-a7eb-ffece2839c1a",
   "metadata": {},
   "outputs": [
    {
     "name": "stdin",
     "output_type": "stream",
     "text": [
      "Hãy nhập chiều dài hình chữ nhật:  4\n",
      "Hãy nhập chiều rộng hình chữ nhật:  4\n"
     ]
    },
    {
     "name": "stdout",
     "output_type": "stream",
     "text": [
      "* * * * \n",
      "* * * * \n",
      "* * * * \n",
      "* * * * \n"
     ]
    }
   ],
   "source": [
    "\"\"\"Viết hàm nhận vào chiều dài và rộng hình chữ nhật, xuất ra hình chữ nhật với số \n",
    "dấu * chiều dài và rộng ứng với đầu vào. Ví dụ hình chữ nhật dài 4, rộng 3 như \n",
    "sau: \n",
    "**** \n",
    "**** \n",
    "****\n",
    "\"\"\"\n",
    "d = int(input(\"Hãy nhập chiều dài hình chữ nhật: \"))\n",
    "r = int(input(\"Hãy nhập chiều rộng hình chữ nhật: \"))\n",
    "for i in range(1,r+1):\n",
    "    for j in range(1,d+1):\n",
    "        print(\"*\", end = \" \")\n",
    "    print()"
   ]
  },
  {
   "cell_type": "code",
   "execution_count": 76,
   "id": "c93a944f-5774-4aa4-b3ee-442d8d3f5485",
   "metadata": {},
   "outputs": [
    {
     "name": "stdin",
     "output_type": "stream",
     "text": [
      "Nhập kích tam giác vuông:  8\n"
     ]
    },
    {
     "name": "stdout",
     "output_type": "stream",
     "text": [
      "*\n",
      "**\n",
      "* *\n",
      "*  *\n",
      "*   *\n",
      "*    *\n",
      "*     *\n",
      "********\n"
     ]
    }
   ],
   "source": [
    "\"\"\"Viết hàm nhận vào chiều cao tam giác vuông, xuất ra hình tam giác như sau: \n",
    "Chiều cao là 5: \n",
    "* \n",
    "** \n",
    "*  * \n",
    "*    * \n",
    "*****\n",
    "\"\"\"\n",
    "n = int(input(\"Nhập kích tam giác vuông: \"))\n",
    "for i in range(1,n+1):\n",
    "    if i == n:  \n",
    "        print('*' * n)\n",
    "    else:\n",
    "        if i == 1:  \n",
    "            print('*')\n",
    "        else:  \n",
    "            print('*' + ' ' * (i - 2) + '*')"
   ]
  },
  {
   "cell_type": "code",
   "execution_count": 89,
   "id": "26367894-2858-46bb-bb93-8cdcdd541577",
   "metadata": {},
   "outputs": [
    {
     "name": "stdin",
     "output_type": "stream",
     "text": [
      "Nhập số Fibonacci muốn tìm :  100\n"
     ]
    },
    {
     "name": "stdout",
     "output_type": "stream",
     "text": [
      "[0, 1, 1, 2, 3, 5, 8, 13, 21, 34, 55, 89, 144, 233, 377, 610, 987, 1597, 2584, 4181, 6765, 10946, 17711, 28657, 46368, 75025, 121393, 196418, 317811, 514229, 832040, 1346269, 2178309, 3524578, 5702887, 9227465, 14930352, 24157817, 39088169, 63245986, 102334155, 165580141, 267914296, 433494437, 701408733, 1134903170, 1836311903, 2971215073, 4807526976, 7778742049, 12586269025, 20365011074, 32951280099, 53316291173, 86267571272, 139583862445, 225851433717, 365435296162, 591286729879, 956722026041, 1548008755920, 2504730781961, 4052739537881, 6557470319842, 10610209857723, 17167680177565, 27777890035288, 44945570212853, 72723460248141, 117669030460994, 190392490709135, 308061521170129, 498454011879264, 806515533049393, 1304969544928657, 2111485077978050, 3416454622906707, 5527939700884757, 8944394323791464, 14472334024676221, 23416728348467685, 37889062373143906, 61305790721611591, 99194853094755497, 160500643816367088, 259695496911122585, 420196140727489673, 679891637638612258, 1100087778366101931, 1779979416004714189, 2880067194370816120, 4660046610375530309, 7540113804746346429, 12200160415121876738, 19740274219868223167, 31940434634990099905, 51680708854858323072, 83621143489848422977, 135301852344706746049, 218922995834555169026]\n"
     ]
    }
   ],
   "source": [
    "\"\"\"Viết hàm xuất giá trị Fibonacci thứ n. Biết rằng dãy Fibonacci bắt đầu: 0 1 1 2 3 5 …\"\"\"\n",
    "n = int(input(\"Nhập số Fibonacci muốn tìm : \"))\n",
    "if n == 0:\n",
    "    print(\"[0]\")\n",
    "elif n == 1:\n",
    "    print(\"[0]\")\n",
    "else:\n",
    "    f=[0]*n\n",
    "    f[0]=0\n",
    "    f[1]=1\n",
    "    for i in range(2,n):\n",
    "        f[i]=f[i-1]+f[i-2]\n",
    "    print(f)"
   ]
  },
  {
   "cell_type": "code",
   "execution_count": 23,
   "id": "a1fc0e2c-cb92-403f-9d5c-99f36f81c8b3",
   "metadata": {},
   "outputs": [
    {
     "name": "stdin",
     "output_type": "stream",
     "text": [
      "Nhập số lượng phần tử của mảng 1 chiều:  100\n"
     ]
    },
    {
     "name": "stdout",
     "output_type": "stream",
     "text": [
      "\n",
      "Mảng 1 chiều:\n",
      "\n",
      "[39 49 21  2 17  3  1 26 39 34  5  8 35 31 37 34 48 24 41 10  1 17 23 49\n",
      " 39 28 30  4 35 16 49  1 44 27 49 46 14 37  8 41 48 30 37 46 12 43  5 20\n",
      " 27 43 27 44 37 33 30 33 19 13 20 42 26 19 34 21  3 19 38 20  9 42 42 29\n",
      " 45 32 40  3 29 11 47 25 43 12  6 30 46 27  6 29 47  4 28 34 13  3 10 30\n",
      " 28 33 47 23]\n",
      "\n",
      "Chuyển mảng 1 chiều thành mảng 2 chiều với số cột là 5\n",
      "\n",
      "Mảng 2 chiều đã chuyển: \n",
      "[[39 49 21  2 17]\n",
      " [ 3  1 26 39 34]\n",
      " [ 5  8 35 31 37]\n",
      " [34 48 24 41 10]\n",
      " [ 1 17 23 49 39]\n",
      " [28 30  4 35 16]\n",
      " [49  1 44 27 49]\n",
      " [46 14 37  8 41]\n",
      " [48 30 37 46 12]\n",
      " [43  5 20 27 43]\n",
      " [27 44 37 33 30]\n",
      " [33 19 13 20 42]\n",
      " [26 19 34 21  3]\n",
      " [19 38 20  9 42]\n",
      " [42 29 45 32 40]\n",
      " [ 3 29 11 47 25]\n",
      " [43 12  6 30 46]\n",
      " [27  6 29 47  4]\n",
      " [28 34 13  3 10]\n",
      " [30 28 33 47 23]]\n",
      "\n",
      "Shape: (100,)\n",
      "Số chiều: 1\n",
      "Kiểu dữ liệu: int32\n",
      "Kích thước của mỗi phần tử: 4 bytes\n",
      "Số lượng phần tử: 100\n"
     ]
    },
    {
     "name": "stdin",
     "output_type": "stream",
     "text": [
      "Nhập số cần tìm số lượng trong mảng 2 chiều: 10\n"
     ]
    },
    {
     "name": "stdout",
     "output_type": "stream",
     "text": [
      "\n",
      "Số 10 cần tìm có số lượng là: 2\n",
      "\n",
      "Tạo thêm 2 chiều có giá trị random để tính tổng và tích\n",
      "[[33 21  9  8  1]\n",
      " [20 36 41  5 29]\n",
      " [26  9 24 35 11]\n",
      " [ 4 18  5 49 22]\n",
      " [26 27  4  4 30]\n",
      " [ 5 21 44 38 25]\n",
      " [13 48 10 10 31]\n",
      " [19 24  3  7 45]\n",
      " [32  2  4 45 15]\n",
      " [15 28  3 14 11]\n",
      " [29 45 39 21 25]\n",
      " [46 40  4 34 31]\n",
      " [ 3 38 14 22 13]\n",
      " [32 34  4 26 49]\n",
      " [45 19  4  8  1]\n",
      " [23 12 48 38 11]\n",
      " [16  0 11  1 15]\n",
      " [30 39 24 48 14]\n",
      " [33 42 30 11 21]\n",
      " [20 43 47 13 37]]\n",
      "\n",
      "Tổng của hai mảng 2 chiều:\n",
      "[72 70 30 10 18 23 37 67 44 63 31 17 59 66 48 38 66 29 90 32 27 44 27 53\n",
      " 69 33 51 48 73 41 62 49 54 37 80 65 38 40 15 86 80 32 41 91 27 58 33 23\n",
      " 41 54 56 89 76 54 55 79 59 17 54 73 29 57 48 43 16 51 72 24 35 91 87 48\n",
      " 49 40 41 26 41 59 85 36 59 12 17 31 61 57 45 53 95 18 61 76 43 14 31 50\n",
      " 71 80 60 60]\n",
      "\n",
      "Tích của hai mảng 2 chiều:\n",
      "[1287 1029  189   16   17   60   36 1066  195  986  130   72  840 1085\n",
      "  407  136  864  120 2009  220   26  459   92  196 1170  140  630  176\n",
      " 1330  400  637   48  440  270 1519  874  336  111   56 1845 1536   60\n",
      "  148 2070  180  645  140   60  378  473  783 1980 1443  693  750 1518\n",
      "  760   52  680 1302   78  722  476  462   39  608 1292   80  234 2058\n",
      " 1890  551  180  256   40   69  348  528 1786  275  688    0   66   30\n",
      "  690  810  234  696 2256   56  924 1428  390   33  210  600 1204 1551\n",
      "  611  851]\n"
     ]
    }
   ],
   "source": [
    "\"\"\"Dùng numpy để xây dựng các hàm: \n",
    "• Tạo mảng 1 chiều gồm n phần tử có giá trị ngẫu nhiên (n chia hết cho 5 và \n",
    "n lớn hơn 20) \n",
    "3 \n",
    "• Xuất mảng  \n",
    "• Chuyển mảng 1 chiều thành mảng 2 chiều số cột là 5. \n",
    "• In các thông tin: shape, ndim, dtype, itemsize, size \n",
    "• Đếm tần số xuất hiện của 1 giá trị x trong mảng 2 chiều. \n",
    "• Tính tổng 2 mảng \n",
    "• Tính tích 2 mảng\n",
    "\"\"\"\n",
    "import numpy as np\n",
    "n = int(input(\"Nhập số lượng phần tử của mảng 1 chiều: \")) \n",
    "print()\n",
    "if n % 5 != 0 or n <= 20: \n",
    "    print(\"n phải chia hết cho 5 và lớn hơn 20.\") \n",
    "else: \n",
    "    arr = np.random.randint(0, 50, n) \n",
    "    print(\"Mảng 1 chiều:\")\n",
    "    print()\n",
    "    print(arr) \n",
    "    print()\n",
    "    print(\"Chuyển mảng 1 chiều thành mảng 2 chiều với số cột là 5\") \n",
    "    arr.reshape(-1, 5) \n",
    "    print()\n",
    "    print(\"Mảng 2 chiều đã chuyển: \")\n",
    "    print(arr.reshape(-1, 5)) \n",
    "    print()\n",
    "    print(\"Shape:\", arr.shape) \n",
    "    print(\"Số chiều:\", arr.ndim) \n",
    "    print(\"Kiểu dữ liệu:\", arr.dtype) \n",
    "    print(\"Kích thước của mỗi phần tử:\", arr.itemsize,\"bytes\") \n",
    "    print(\"Số lượng phần tử:\", arr.size)\n",
    "    x = int(input(\"Nhập số cần tìm số lượng trong mảng 2 chiều:\")) \n",
    "    a = np.count_nonzero(arr == x)\n",
    "    print()\n",
    "    print(\"Số\", x, \"cần tìm có số lượng là:\",a)\n",
    "    print()\n",
    "    print(\"Tạo thêm 2 chiều có giá trị random để tính tổng và tích\")\n",
    "    arr2 = np.random.randint(0, 50, n) \n",
    "    arr2.reshape(-1, 5)\n",
    "    print(arr2.reshape(-1, 5)) \n",
    "    print()\n",
    "    print(\"Tổng của hai mảng 2 chiều:\")\n",
    "    tong = arr + arr2\n",
    "    print(tong)\n",
    "    print(\"\\nTích của hai mảng 2 chiều:\")\n",
    "    tich = np.multiply(arr, arr2)\n",
    "    print(tich)"
   ]
  }
 ],
 "metadata": {
  "kernelspec": {
   "display_name": "Python 3 (ipykernel)",
   "language": "python",
   "name": "python3"
  },
  "language_info": {
   "codemirror_mode": {
    "name": "ipython",
    "version": 3
   },
   "file_extension": ".py",
   "mimetype": "text/x-python",
   "name": "python",
   "nbconvert_exporter": "python",
   "pygments_lexer": "ipython3",
   "version": "3.11.7"
  }
 },
 "nbformat": 4,
 "nbformat_minor": 5
}
